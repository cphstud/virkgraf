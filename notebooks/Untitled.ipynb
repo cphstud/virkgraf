{
 "cells": [
  {
   "cell_type": "code",
   "execution_count": 50,
   "metadata": {},
   "outputs": [],
   "source": [
    "name=\"11A1A0'0AAA023sdf\""
   ]
  },
  {
   "cell_type": "code",
   "execution_count": 51,
   "metadata": {},
   "outputs": [
    {
     "name": "stdout",
     "output_type": "stream",
     "text": [
      "1\n"
     ]
    }
   ],
   "source": [
    "print(name[0])\n",
    "import re"
   ]
  },
  {
   "cell_type": "code",
   "execution_count": 52,
   "metadata": {},
   "outputs": [
    {
     "name": "stdout",
     "output_type": "stream",
     "text": [
      "sadf\n"
     ]
    }
   ],
   "source": [
    "if (name[0].isdigit()):\n",
    "    print(\"sadf\")"
   ]
  },
  {
   "cell_type": "code",
   "execution_count": 53,
   "metadata": {},
   "outputs": [
    {
     "data": {
      "text/plain": [
       "'1A1A00AAA023sdf'"
      ]
     },
     "execution_count": 53,
     "metadata": {},
     "output_type": "execute_result"
    }
   ],
   "source": [
    "re.sub(\"^[0-9]|[']\",\"\",name)"
   ]
  },
  {
   "cell_type": "code",
   "execution_count": 54,
   "metadata": {},
   "outputs": [],
   "source": [
    "st=\"NameOfAuditFirm contextRef=\\\"ctx3\\\">&lt;p xmlns=\\\"http://www.w3.org/1999/xhtml\\\"&gt;REVISIONSFIRMAET FLEMMING HANSEN Statsautoriseret revisionsaktiesel    skab&lt;/p&gt;&lt;p xmlns=\\\"http://www.w3.org/1999/xhtml\\\"&gt;Revision&lt;/p&gt;&lt;p xmlns=\\\"http://www.w3.org/1999/xhtml\\\"&gt;Revisionsfirmaet Flemming Hansen Statsautoriseret revisionsaktieselskab&lt;/p&gt;</cmn:NameOfAuditFirm> \""
   ]
  },
  {
   "cell_type": "code",
   "execution_count": 316,
   "metadata": {},
   "outputs": [],
   "source": [
    "idRev=re.compile(\"NameOfAuditFirm.*>(gt;)(.*)<\\/.*\")"
   ]
  },
  {
   "cell_type": "code",
   "execution_count": 317,
   "metadata": {},
   "outputs": [],
   "source": [
    "m=idRev.findall(st)"
   ]
  },
  {
   "cell_type": "code",
   "execution_count": 318,
   "metadata": {},
   "outputs": [
    {
     "name": "stdout",
     "output_type": "stream",
     "text": [
      "[]\n"
     ]
    }
   ],
   "source": [
    "print((m))"
   ]
  },
  {
   "cell_type": "code",
   "execution_count": null,
   "metadata": {},
   "outputs": [],
   "source": []
  },
  {
   "cell_type": "code",
   "execution_count": null,
   "metadata": {},
   "outputs": [],
   "source": []
  }
 ],
 "metadata": {
  "kernelspec": {
   "display_name": "Python 3",
   "language": "python",
   "name": "python3"
  },
  "language_info": {
   "codemirror_mode": {
    "name": "ipython",
    "version": 3
   },
   "file_extension": ".py",
   "mimetype": "text/x-python",
   "name": "python",
   "nbconvert_exporter": "python",
   "pygments_lexer": "ipython3",
   "version": "3.7.6"
  }
 },
 "nbformat": 4,
 "nbformat_minor": 4
}
