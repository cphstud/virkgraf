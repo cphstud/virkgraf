{
 "cells": [
  {
   "cell_type": "code",
   "execution_count": 362,
   "metadata": {},
   "outputs": [],
   "source": [
    "from neo4j import GraphDatabase\n",
    "from py2neo import Graph, Node, Relationship\n",
    "import json\n",
    "import re\n",
    "import time"
   ]
  },
  {
   "cell_type": "code",
   "execution_count": 364,
   "metadata": {},
   "outputs": [],
   "source": [
    "uri = \"http://localhost:7474\"\n",
    "pwd = \"root123\"\n",
    "graph = Graph(uri, auth=(\"neo4j\", pwd), name=\"dbc\")"
   ]
  },
  {
   "cell_type": "code",
   "execution_count": 365,
   "metadata": {},
   "outputs": [
    {
     "data": {
      "text/html": [
       "<table><tr><th>COUNT(n)</th></tr><tr><td style=\"text-align:right\">6297</td></tr></table>"
      ],
      "text/plain": [
       " COUNT(n) \n",
       "----------\n",
       "     6297 "
      ]
     },
     "execution_count": 365,
     "metadata": {},
     "output_type": "execute_result"
    }
   ],
   "source": [
    "graph.run(\"MATCH (n) RETURN COUNT(n)\")"
   ]
  },
  {
   "cell_type": "code",
   "execution_count": 367,
   "metadata": {},
   "outputs": [],
   "source": [
    "#f=open(\"/Users/thor/Git/ML/virk/xml/test/outrun2\",\"r\")\n",
    "f=open(\"/Users/thor/Git/ML/virk/xrun/outfile\",\"r\")"
   ]
  },
  {
   "cell_type": "code",
   "execution_count": 368,
   "metadata": {},
   "outputs": [],
   "source": [
    "lines=f.readlines()"
   ]
  },
  {
   "cell_type": "code",
   "execution_count": 369,
   "metadata": {},
   "outputs": [
    {
     "name": "stdout",
     "output_type": "stream",
     "text": [
      "00077201_109.xml.out:  <c:NameOfReportingEntity contextRef=\"c1\">S&#xF8;ren Honor&#xE9; Hansen A/S</c:NameOfReportingEntity>\n",
      "\n"
     ]
    }
   ],
   "source": [
    "print(lines[0])"
   ]
  },
  {
   "cell_type": "code",
   "execution_count": 370,
   "metadata": {},
   "outputs": [
    {
     "name": "stdout",
     "output_type": "stream",
     "text": [
      "240641\n",
      "00077201_109.xml.out:  <c:NameOfReportingEntity contextRef=\"c1\">S&#xF8;ren Honor&#xE9; Hansen A/S</c:NameOfReportingEntity>\n",
      "\n"
     ]
    }
   ],
   "source": [
    "print(len(lines))\n",
    "print(lines[0])"
   ]
  },
  {
   "cell_type": "markdown",
   "metadata": {},
   "source": [
    "XVergoHoldingIVS FOOD-FACTORY ApS<br>\n",
    "XIMTEXApS IMTEX ApS<br>\n"
   ]
  },
  {
   "cell_type": "code",
   "execution_count": 372,
   "metadata": {},
   "outputs": [
    {
     "ename": "AttributeError",
     "evalue": "'re.Pattern' object has no attribute 'find'",
     "output_type": "error",
     "traceback": [
      "\u001b[0;31m---------------------------------------------------------------------------\u001b[0m",
      "\u001b[0;31mAttributeError\u001b[0m                            Traceback (most recent call last)",
      "\u001b[0;32m<ipython-input-372-f76d9990b97a>\u001b[0m in \u001b[0;36m<module>\u001b[0;34m\u001b[0m\n\u001b[1;32m     26\u001b[0m \u001b[0;34m\u001b[0m\u001b[0m\n\u001b[1;32m     27\u001b[0m     \u001b[0midCvr\u001b[0m\u001b[0;34m=\u001b[0m\u001b[0midPat\u001b[0m\u001b[0;34m.\u001b[0m\u001b[0mfindall\u001b[0m\u001b[0;34m(\u001b[0m\u001b[0mline\u001b[0m\u001b[0;34m)\u001b[0m\u001b[0;34m\u001b[0m\u001b[0;34m\u001b[0m\u001b[0m\n\u001b[0;32m---> 28\u001b[0;31m     \u001b[0midCvrL\u001b[0m\u001b[0;34m=\u001b[0m\u001b[0mcvrPat\u001b[0m\u001b[0;34m.\u001b[0m\u001b[0mfind\u001b[0m\u001b[0;34m(\u001b[0m\u001b[0mline\u001b[0m\u001b[0;34m)\u001b[0m\u001b[0;34m\u001b[0m\u001b[0;34m\u001b[0m\u001b[0m\n\u001b[0m\u001b[1;32m     29\u001b[0m     \u001b[0mcvr\u001b[0m\u001b[0;34m=\u001b[0m\u001b[0mres\u001b[0m\u001b[0;34m[\u001b[0m\u001b[0;36m0\u001b[0m\u001b[0;34m]\u001b[0m\u001b[0;34m\u001b[0m\u001b[0;34m\u001b[0m\u001b[0m\n\u001b[1;32m     30\u001b[0m     \u001b[0;32mif\u001b[0m \u001b[0mcvr\u001b[0m \u001b[0;32mnot\u001b[0m \u001b[0;32min\u001b[0m \u001b[0mcompDict\u001b[0m\u001b[0;34m.\u001b[0m\u001b[0mkeys\u001b[0m\u001b[0;34m(\u001b[0m\u001b[0;34m)\u001b[0m\u001b[0;34m:\u001b[0m\u001b[0;34m\u001b[0m\u001b[0;34m\u001b[0m\u001b[0m\n",
      "\u001b[0;31mAttributeError\u001b[0m: 're.Pattern' object has no attribute 'find'"
     ]
    }
   ],
   "source": [
    "personDict={}\n",
    "companyDict={}\n",
    "\n",
    "idPat=re.compile(\"(^[0-9_]+)\")\n",
    "cvrPat=re.compile(\"(^[0-9]+)\")\n",
    "idDir=re.compile(\"NameAndSurnameOfMemberOfExecutiveBoard.*>(.*)<\\/.*\")\n",
    "idRev=re.compile(\"NameOfAuditFirm.*>(.*)<\\/.*\")\n",
    "idComp=re.compile(\"NameOfReportingEntity.*>(.*)<\\/.*\")\n",
    "idRevName=re.compile(\"NameAndSurnameOfAuditor.*>(.*)<\\/.*\")\n",
    "idCVR=re.compile(\"IdentificationNumberCvrOfAuditFirm.*>(.*)<\\/\")\n",
    "idLoss=re.compile(\"GrossProfitLoss.*>(.*)<\\/\")\n",
    "\n",
    "idAddrS=re.compile(\"AddressOfReportingEntityStreetName.*>(.*)<\\/\")\n",
    "idAddrN=re.compile(\"AddressOfReportingEntityStreetBuildingIdentifier.*>(.*)<\\/\")\n",
    "idAddrC=re.compile(\"AddressOfReportingEntityDistrictName.*>(.*)<\\/\")\n",
    "idCVR=re.compile(\"IdentificationNumberCvrOfReportingEntity.*>(.*)<\\/\")\n",
    "idBank=re.compile(\"NameOfFinancialInstitution.*>(.*)<\\/\")\n",
    "idPerson=re.compile(\"NameOfSubmittingEnterprise.*>(.*)<\\/\")\n",
    "\n",
    "\n",
    "compDict={}\n",
    "tmpcvr=0\n",
    "previdx=0\n",
    "idx=re.compile(\"^([0-9]+)_([0-9]+)\\.\")\n",
    "for line in lines:\n",
    "    \n",
    "    idCvr=idPat.findall(line)\n",
    "    idCvrL=cvrPat.findall(line)\n",
    "    cvr=res[0]      \n",
    "    if cvr not in compDict.keys():\n",
    "        #first line in next company\n",
    "        compDict[cvr]={}\n",
    "    #look for stuff\n",
    "    idDirL=idDir.findall(line)\n",
    "    idRevL=idRev.findall(line)\n",
    "    idCompL=idComp.findall(line)\n",
    "    idRevNameL=idRevName.findall(line)\n",
    "    idAddrSL=idAddrS.findall(line)\n",
    "    idAddrNL=idAddrN.findall(line)\n",
    "    idAddrCL=idAddrC.findall(line)\n",
    "    idCVRL=idCVR.findall(line)\n",
    "    idBankL=idBank.findall(line)\n",
    "    idPersonL=idPerson.findall(line)\n",
    " \n",
    "    if len(idPersonL)>0:\n",
    "        compDict[cvr]['NameOfCompPerson']=idPersonL[0]\n",
    "        compDict[cvr]['idNameOfCompPerson']=\"{0}\".format(re.sub(\"[ -\\.\\/;&,'´]\",\"\",idPersonL[0]))\n",
    "    \n",
    "    if len(idBankL)>0:\n",
    "        compDict[cvr]['NameOfBank']=idBankL[0]\n",
    "        compDict[cvr]['idNameOfBank']=\"{0}\".format(re.sub(\"[ -\\.\\/;&,'´]\",\"\",idBankL[0]))\n",
    "    \n",
    "    if len(idDirL)>0:\n",
    "        compDict[cvr]['NameOfCEO']=idDirL[0]\n",
    "        compDict[cvr]['idNameOfCEO']=\"{0}\".format(re.sub(\"[ -\\.\\/;&,'´]\",\"\",idDirL[0]))\n",
    "    if len(idRevL)>0:\n",
    "        compDict[cvr]['NameOfAuditFirm']=re.sub(\"[']\",\"\",idRevL[0])\n",
    "        compDict[cvr]['idNameOfAuditFirm']=re.sub(\"[ -\\.\\/;&,'´]\",\"\",idRevL[0])\n",
    "    if len(idCompL)>0:\n",
    "        compDict[cvr]['NameOfReportingEntity']=re.sub(\"^[0-9]|[']\",\"\",idCompL[0])\n",
    "        tmpStr=re.sub(\"[ -\\.\\/;&,´]\",\"\",idCompL[0])\n",
    "        tmpStrN=tmpStr\n",
    "        if (tmpStr[0].isnumeric):\n",
    "            tmpStrN=\"X\"+tmpStr     \n",
    "        compDict[cvr]['idNameOfReportingEntity']=re.sub(\"[ -\\.\\/;&,'´]\",\"\",tmpStrN)\n",
    "    if len(idRevNameL)>0:\n",
    "        compDict[cvr]['NameAndSurnameOfAuditor']=idRevNameL[0]\n",
    "        compDict[cvr]['idNameAndSurnameOfAuditor']=re.sub(\"[ -\\.\\/;&,'´]\",\"\",idRevNameL[0])\n",
    "    if len(idAddrSL)>0:\n",
    "        if (\"location\" not in compDict[cvr].keys()):\n",
    "            compDict[cvr]['location']={}       \n",
    "        compDict[cvr]['location']['Street']=idAddrSL[0]\n",
    "        if ('idLocation' in compDict[cvr]['location'].keys() ):\n",
    "            compDict[cvr]['location']['idLocation']+=re.sub(\"[ -\\.\\/;&,'´]\",\"\",idAddrSL[0])\n",
    "        else:\n",
    "            compDict[cvr]['location']['idLocation']=re.sub(\"[ -\\.\\/;&,'´]\",\"\",idAddrSL[0])\n",
    "    if len(idAddrNL)>0:\n",
    "        if (\"location\" not in compDict[cvr].keys()):\n",
    "            compDict[cvr]['location']={}\n",
    "        compDict[cvr]['location']['Number']=idAddrNL[0]\n",
    "        if ('idLocation' in compDict[cvr]['location'].keys() ):\n",
    "            compDict[cvr]['location']['idLocation']+=re.sub(\"[ -\\.\\/;&,'´]\",\"\",idAddrNL[0])\n",
    "        else:\n",
    "            compDict[cvr]['location']['idLocation']=re.sub(\"[ -\\.\\/;&,'´]\",\"\",idAddrNL[0])\n",
    "        \n",
    "    if len(idAddrCL)>0:\n",
    "        try:\n",
    "            if (\"location\" not in compDict[cvr].keys()):\n",
    "                compDict[cvr]['location']={}\n",
    "            compDict[cvr]['location']['City']=idAddrCL[0]\n",
    "\n",
    "            if ('idLocation' in compDict[cvr]['location'].keys() ):\n",
    "                compDict[cvr]['location']['idLocation']+=re.sub(\"[ -\\.\\/;&,'´]\",\"\",idAddrCL[0])\n",
    "            else:\n",
    "                compDict[cvr]['location']['idLocation']=re.sub(\"[ -\\.\\/;&,'´]\",\"\",idAddrCL[0])\n",
    "        except:\n",
    "            print(\"cont\")\n",
    "    if len(idCVRL)>0:\n",
    "        compDict[cvr]['cvr']=idCVRL[0]\n",
    "        \n",
    "    #idDirL=idDir.findall(line)\n",
    "\n",
    "    \n",
    "    \n",
    "    "
   ]
  },
  {
   "cell_type": "code",
   "execution_count": 336,
   "metadata": {},
   "outputs": [
    {
     "data": {
      "text/plain": [
       "dict_values(['Vivi Diesbjerg-Normann', 'ViviDiesbjergNormann', 'Karl Kristian Bergman Jensen', 'KarlKristianBergmanJensen', \"A'jour Revision\", 'AjourRevision', {'City': 'Kirke Hyllinge', 'idLocation': 'KirkeHyllinge88Gershøjvej', 'Number': '88', 'Street': 'Gershøjvej'}, '37868310', 'Danske Bank', 'DanskeBank', 'Dansk Detail ApS', 'XDanskDetailApS', 'Vivi Diesbjerg-Normann', 'ViviDiesbjergNormann'])"
      ]
     },
     "execution_count": 336,
     "metadata": {},
     "output_type": "execute_result"
    }
   ],
   "source": [
    "compDict['01386873'].values()"
   ]
  },
  {
   "cell_type": "code",
   "execution_count": 293,
   "metadata": {},
   "outputs": [],
   "source": [
    "import ipdb"
   ]
  },
  {
   "cell_type": "code",
   "execution_count": 285,
   "metadata": {},
   "outputs": [],
   "source": [
    "#create cypher\n",
    "#if ceo\n",
    "\n",
    "if ('idNameOfCEO' in compDict['01339483'].keys()):\n",
    "    tmpStr=\"MERGE({0}:Person {{name:'{1}', role:'ceo'}}) MERGE ({2}:Company {{name:'{3}'}}) MERGE ({0})-[:CEO_IN]->({2})\"\n",
    "    q=tmpStr.format(\n",
    "        compDict['01339483']['idNameOfCEO'],\n",
    "        compDict['01339483']['NameOfCEO'],\n",
    "        compDict['01339483']['idNameOfReportingEntity'],\n",
    "        compDict['01339483']['NameOfReportingEntity']\n",
    "    )\n",
    "    "
   ]
  },
  {
   "cell_type": "code",
   "execution_count": 286,
   "metadata": {},
   "outputs": [
    {
     "name": "stdout",
     "output_type": "stream",
     "text": [
      "MERGE(HenrikLund-Nielsen:Person {name:'Henrik Lund-Nielsen', role:'ceo'}) MERGE (2084NOApS:Company {name:'2084.NO ApS'}) MERGE (HenrikLund-Nielsen)-[:CEO_IN]->(2084NOApS) MERGE(Gentofte23Soløsevej:Location {city:'Gentofte',street:'Soløsevej',number:'23'})  MERGE (2084NOApS)-[:LOCATED]->(Gentofte23Soløsevej)\n"
     ]
    }
   ],
   "source": [
    "print(q)\n",
    "#graph.run(q)"
   ]
  },
  {
   "cell_type": "code",
   "execution_count": 230,
   "metadata": {},
   "outputs": [],
   "source": [
    "if (\"location\" in compDict['01069173'].keys()):\n",
    "    tmpStr=\" MERGE({0}:Location {{city:'{1}',street:'{3}',number:'{2}'}})  MERGE ({4})-[:LOCATED]->({0})\"\n",
    "    q+=tmpStr.format(\n",
    "        compDict['01069173']['location']['idLocation'],\n",
    "        compDict['01069173']['location']['City'],\n",
    "        compDict['01069173']['location']['Number'],\n",
    "        compDict['01069173']['location']['Street'],\n",
    "        compDict['01069173']['idNameOfReportingEntity']\n",
    "    )\n",
    "    "
   ]
  },
  {
   "cell_type": "code",
   "execution_count": 231,
   "metadata": {},
   "outputs": [],
   "source": [
    "if (\"idNameOfAuditFirm\" in compDict['01069173'].keys()):\n",
    "    tmpStr=\" MERGE({0}:Person {{name:'{1}', role:'auditer'}}) MERGE ({2}:Company {{name:'{3}'}})  MERGE ({0})-[:EMP_IN]->({2}) MERGE ({4})-[:AUDITED_BY]->({0}) \"\n",
    "    q+=tmpStr.format(\n",
    "        compDict['01069173']['idNameAndSurnameOfAuditor'],\n",
    "        compDict['01069173']['NameAndSurnameOfAuditor'],\n",
    "        compDict['01069173']['idNameOfAuditFirm'],\n",
    "        compDict['01069173']['NameOfAuditFirm'],\n",
    "        compDict['01069173']['idNameOfReportingEntity']\n",
    "    )\n",
    "    "
   ]
  },
  {
   "cell_type": "code",
   "execution_count": null,
   "metadata": {},
   "outputs": [],
   "source": []
  },
  {
   "cell_type": "code",
   "execution_count": 354,
   "metadata": {},
   "outputs": [],
   "source": [
    "logfile=open(\"log.txt\",\"w+\")"
   ]
  },
  {
   "cell_type": "code",
   "execution_count": 355,
   "metadata": {},
   "outputs": [],
   "source": [
    "for key in compDict.keys():\n",
    "    \n",
    "    #ipdb.set_trace()\n",
    "    try:\n",
    "        if ('idNameOfCEO' in compDict[key].keys()):\n",
    "            tmpStr=\"MERGE({0}:Person {{name:'{1}', role:'ceo'}}) MERGE ({2}:Company {{name:'{3}'}}) MERGE ({0})-[:CEO_IN]->({2})\"\n",
    "            q=tmpStr.format(\n",
    "                compDict[key]['idNameOfCEO'],\n",
    "                compDict[key]['NameOfCEO'],\n",
    "                compDict[key]['idNameOfReportingEntity'],\n",
    "                compDict[key]['NameOfReportingEntity']\n",
    "            )\n",
    "        if (\"location\" in compDict[key].keys()):\n",
    "            try:\n",
    "                tmpStr=\" MERGE({0}:Location {{city:'{1}',street:'{3}',number:'{2}'}})  MERGE ({4})-[:LOCATED]->({0})\"\n",
    "                q+=tmpStr.format(\n",
    "                    compDict[key]['location']['idLocation'],\n",
    "                    compDict[key]['location']['City'],\n",
    "                    compDict[key]['location']['Number'],\n",
    "                    compDict[key]['location']['Street'],\n",
    "                    compDict[key]['idNameOfReportingEntity']\n",
    "                )\n",
    "            except:\n",
    "                tmpStr=\" MERGE({0}:Location)  MERGE ({1})-[:LOCATED]->({0})\"\n",
    "                q+=tmpStr.format(\n",
    "                    compDict[key]['location']['idLocation'],\n",
    "                    compDict[key]['idNameOfReportingEntity']\n",
    "                )\n",
    "                \n",
    "        if (\"idNameOfAuditFirm\" in compDict[key].keys()):\n",
    "            try:\n",
    "                tmpStr=\" MERGE({0}:Person {{name:'{1}', role:'auditer'}}) MERGE ({2}:Company {{name:'{3}'}})  MERGE ({0})-[:EMP_IN]->({2}) MERGE ({4})-[:AUDITED_BY]->({0}) \"\n",
    "                q+=tmpStr.format(\n",
    "                    compDict[key]['idNameAndSurnameOfAuditor'],\n",
    "                    compDict[key]['NameAndSurnameOfAuditor'],\n",
    "                    compDict[key]['idNameOfAuditFirm'],\n",
    "                    compDict[key]['NameOfAuditFirm'],\n",
    "                    compDict[key]['idNameOfReportingEntity']\n",
    "                )\n",
    "            except:\n",
    "                tmpStr=\" MERGE ({0}:Company {{name:'{1}'}})  MERGE ({2})-[:AUDITED_BY]->({0}) \"\n",
    "                \n",
    "                q+=tmpStr.format(\n",
    "                compDict[key]['idNameOfAuditFirm'],\n",
    "                compDict[key]['NameOfAuditFirm'],\n",
    "                compDict[key]['idNameOfReportingEntity']\n",
    "                )\n",
    "        \n",
    "    except ValueError as e:\n",
    "        logfile.write(\"ERROR:{}\".format(e))\n",
    "        logfile.write(\"ERROR on {}\".format(compDict[key]))\n",
    "        print(e)\n",
    "    try:\n",
    "        graph.run(q)\n",
    "        logfile.write(\"DEBUG: {}\".format(q))\n",
    "        \n",
    "        #pass\n",
    "    except Exception as e:\n",
    "        logfile.write(\"ERROR: {}\".format(e))\n",
    "        logfile.write(\"ERROR Q: {} \".format(q))\n",
    "        \n",
    "    #print(q)"
   ]
  },
  {
   "cell_type": "code",
   "execution_count": 356,
   "metadata": {},
   "outputs": [],
   "source": [
    "logfile.close()"
   ]
  },
  {
   "cell_type": "code",
   "execution_count": 357,
   "metadata": {},
   "outputs": [
    {
     "name": "stdout",
     "output_type": "stream",
     "text": [
      "/Users/thor/Git/bite_sized_data_science/notebooks\r\n"
     ]
    }
   ],
   "source": [
    "!pwd"
   ]
  },
  {
   "cell_type": "code",
   "execution_count": 235,
   "metadata": {},
   "outputs": [
    {
     "name": "stdout",
     "output_type": "stream",
     "text": [
      "MERGE(TorstenWoldbyeMandrup:Person {name:'Torsten Woldbye Mandrup', role:'ceo'}) MERGE (KNMachinesIVS:Company {name:'KN Machines IVS'}) MERGE (TorstenWoldbyeMandrup)-[:CEO_IN]->(KNMachinesIVS) MERGE(Horsens6Toftumvej:Location {city:'Horsens',street:'Toftumvej',number:'6'})  MERGE (KNMachinesIVS)-[:LOCATED]->(Horsens6Toftumvej) MERGE(MogensNygård:Person {name:'Mogens Nygård', role:'auditer'}) MERGE (MNRevisionogRådgivning:Company {name:'MN Revision og Rådgivning'})  MERGE (MogensNygård)-[:EMP_IN]->(MNRevisionogRådgivning) MERGE (KNMachinesIVS)-[:AUDITED_BY]->(MogensNygård) \n"
     ]
    }
   ],
   "source": [
    "print(q)\n",
    "#print(data[0])\n",
    "#q=\"CREATE (ElseH:creator {name:'Else Holgersen'}) CREATE (Fljteogmalebogen:sheetmusic {title:'Fløjte og malebogen', subjectterm:['78.46301', 'Vokalmusik for børn']}),(ElseH)-[:CREATED]->(Fljteogmalebogen)\""
   ]
  },
  {
   "cell_type": "code",
   "execution_count": 236,
   "metadata": {},
   "outputs": [
    {
     "data": {
      "text/html": [
       "(No data)"
      ],
      "text/plain": [
       "(No data)"
      ]
     },
     "execution_count": 236,
     "metadata": {},
     "output_type": "execute_result"
    }
   ],
   "source": [
    "graph.run(q)"
   ]
  },
  {
   "cell_type": "code",
   "execution_count": null,
   "metadata": {},
   "outputs": [],
   "source": [
    "for dat in data:\n",
    "    try:\n",
    "        print((dat['type']))\n",
    "    except:\n",
    "        print(\"Error on {}\".format(dat))\n",
    "    "
   ]
  },
  {
   "cell_type": "code",
   "execution_count": 55,
   "metadata": {},
   "outputs": [],
   "source": [
    "f.close()"
   ]
  },
  {
   "cell_type": "code",
   "execution_count": 49,
   "metadata": {},
   "outputs": [
    {
     "name": "stdout",
     "output_type": "stream",
     "text": [
      "[]\n"
     ]
    }
   ],
   "source": [
    "print(data)"
   ]
  },
  {
   "cell_type": "code",
   "execution_count": null,
   "metadata": {},
   "outputs": [],
   "source": []
  }
 ],
 "metadata": {
  "kernelspec": {
   "display_name": "Python 3",
   "language": "python",
   "name": "python3"
  },
  "language_info": {
   "codemirror_mode": {
    "name": "ipython",
    "version": 3
   },
   "file_extension": ".py",
   "mimetype": "text/x-python",
   "name": "python",
   "nbconvert_exporter": "python",
   "pygments_lexer": "ipython3",
   "version": "3.7.6"
  }
 },
 "nbformat": 4,
 "nbformat_minor": 5
}
