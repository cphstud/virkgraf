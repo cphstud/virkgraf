{
 "cells": [
  {
   "cell_type": "code",
   "execution_count": 1,
   "metadata": {},
   "outputs": [],
   "source": [
    "from neo4j import GraphDatabase\n",
    "from py2neo import Graph, Node, Relationship\n",
    "import json\n",
    "import re\n",
    "import time\n",
    "import pandas as pd\n",
    "import numpy as np\n",
    "\n",
    "uri = \"http://localhost:7474\"\n",
    "pwd = \"root123\"\n",
    "graph = Graph(uri, auth=(\"neo4j\", pwd), name=\"dbc\")\n",
    "\n",
    "with open('/Users/thor/Git/ML/brondby/V3Events.json') as json_data:\n",
    "    data = json.load(json_data)\n",
    "\n",
    "df = pd.DataFrame(data['events'])"
   ]
  },
  {
   "cell_type": "code",
   "execution_count": 2,
   "metadata": {},
   "outputs": [
    {
     "name": "stdout",
     "output_type": "stream",
     "text": [
      "<class 'pandas.core.frame.DataFrame'>\n",
      "RangeIndex: 1894 entries, 0 to 1893\n",
      "Data columns (total 20 columns):\n",
      " #   Column          Non-Null Count  Dtype  \n",
      "---  ------          --------------  -----  \n",
      " 0   id              1894 non-null   int64  \n",
      " 1   matchId         1894 non-null   int64  \n",
      " 2   matchPeriod     1894 non-null   object \n",
      " 3   minute          1894 non-null   int64  \n",
      " 4   second          1894 non-null   int64  \n",
      " 5   matchTimestamp  1894 non-null   object \n",
      " 6   videoTimestamp  1894 non-null   object \n",
      " 7   relatedEventId  1793 non-null   float64\n",
      " 8   type            1894 non-null   object \n",
      " 9   location        1894 non-null   object \n",
      " 10  team            1894 non-null   object \n",
      " 11  opponentTeam    1894 non-null   object \n",
      " 12  player          1894 non-null   object \n",
      " 13  pass            1145 non-null   object \n",
      " 14  shot            32 non-null     object \n",
      " 15  groundDuel      256 non-null    object \n",
      " 16  aerialDuel      66 non-null     object \n",
      " 17  infraction      25 non-null     object \n",
      " 18  carry           136 non-null    object \n",
      " 19  possession      1809 non-null   object \n",
      "dtypes: float64(1), int64(4), object(15)\n",
      "memory usage: 296.1+ KB\n"
     ]
    }
   ],
   "source": [
    "df.info()"
   ]
  },
  {
   "cell_type": "code",
   "execution_count": 112,
   "metadata": {},
   "outputs": [],
   "source": [
    "line=\"0.84219,0.51681;0.63861,0.19465;0.50125,0.48725\"\n"
   ]
  },
  {
   "cell_type": "code",
   "execution_count": 113,
   "metadata": {},
   "outputs": [],
   "source": [
    "ll=[re.findall('([\\w.]+)',x) for x in line.split(\";\")]"
   ]
  },
  {
   "cell_type": "code",
   "execution_count": 83,
   "metadata": {},
   "outputs": [],
   "source": [
    "kk=[tuple(t) for t in ll]"
   ]
  },
  {
   "cell_type": "code",
   "execution_count": null,
   "metadata": {},
   "outputs": [],
   "source": [
    "kk=[(int((t[0])*100),int((t[1])*100)) for t in ll]\n",
    "#kk=[tuple(t[0].split(',')) for t in ll]\n",
    "     "
   ]
  },
  {
   "cell_type": "code",
   "execution_count": 114,
   "metadata": {},
   "outputs": [],
   "source": [
    "pp=[(int(100*float(el[0])),int(100*float(el[1]))) for el in kk]"
   ]
  },
  {
   "cell_type": "code",
   "execution_count": 115,
   "metadata": {},
   "outputs": [
    {
     "data": {
      "text/plain": [
       "[(84, 51), (63, 19), (50, 48)]"
      ]
     },
     "execution_count": 115,
     "metadata": {},
     "output_type": "execute_result"
    }
   ],
   "source": [
    "pp"
   ]
  },
  {
   "cell_type": "code",
   "execution_count": 128,
   "metadata": {},
   "outputs": [],
   "source": [
    "import xml.etree.ElementTree  as ET\n",
    "from xml.dom import minidom"
   ]
  },
  {
   "cell_type": "code",
   "execution_count": 129,
   "metadata": {},
   "outputs": [],
   "source": [
    "myTree = ET.parse('/Users/thor/PycharmProjects/FirstGame/resources/Sample_Game_3_metadata.xml')\n",
    "xmldoc = minidom.parse('/Users/thor/PycharmProjects/FirstGame/resources/Sample_Game_3_metadata.xml')"
   ]
  },
  {
   "cell_type": "code",
   "execution_count": 119,
   "metadata": {},
   "outputs": [],
   "source": [
    "root=myTree.getroot()"
   ]
  },
  {
   "cell_type": "code",
   "execution_count": 190,
   "metadata": {},
   "outputs": [
    {
     "name": "stdout",
     "output_type": "stream",
     "text": [
      "<DOM Element: Player at 0x7fa05564cc30>\n"
     ]
    }
   ],
   "source": [
    "players=root.findall('Players')\n",
    "playerRoot = xmldoc.getElementsByTagName('Players')\n",
    "itemlist=playerRoot[0].getElementsByTagName('Player')\n",
    "print(itemlist[0])"
   ]
  },
  {
   "cell_type": "code",
   "execution_count": 199,
   "metadata": {},
   "outputs": [],
   "source": [
    "tmppickedPLayers=xmldoc.getElementsByTagName('DataFormatSpecifications')\n",
    "pickedPlayersRoot=tmppickedPLayers[0].getElementsByTagName('DataFormatSpecification')[0]"
   ]
  },
  {
   "cell_type": "code",
   "execution_count": 200,
   "metadata": {},
   "outputs": [],
   "source": [
    "pickedPlayers=pickedPlayersRoot.getElementsByTagName('PlayerChannelRef')"
   ]
  },
  {
   "cell_type": "code",
   "execution_count": 201,
   "metadata": {},
   "outputs": [
    {
     "data": {
      "text/plain": [
       "44"
      ]
     },
     "execution_count": 201,
     "metadata": {},
     "output_type": "execute_result"
    }
   ],
   "source": [
    "len(pickedPlayers)"
   ]
  },
  {
   "cell_type": "code",
   "execution_count": 203,
   "metadata": {},
   "outputs": [
    {
     "name": "stdout",
     "output_type": "stream",
     "text": [
      "player1_x\n",
      "player1_y\n",
      "player2_x\n",
      "player2_y\n",
      "player3_x\n",
      "player3_y\n",
      "player4_x\n",
      "player4_y\n",
      "player5_x\n",
      "player5_y\n",
      "player6_x\n",
      "player6_y\n",
      "player7_x\n",
      "player7_y\n",
      "player8_x\n",
      "player8_y\n",
      "player9_x\n",
      "player9_y\n",
      "player10_x\n",
      "player10_y\n",
      "player11_x\n",
      "player11_y\n",
      "player18_x\n",
      "player18_y\n",
      "player19_x\n",
      "player19_y\n",
      "player20_x\n",
      "player20_y\n",
      "player21_x\n",
      "player21_y\n",
      "player22_x\n",
      "player22_y\n",
      "player23_x\n",
      "player23_y\n",
      "player24_x\n",
      "player24_y\n",
      "player25_x\n",
      "player25_y\n",
      "player26_x\n",
      "player26_y\n",
      "player27_x\n",
      "player27_y\n",
      "player28_x\n",
      "player28_y\n"
     ]
    },
    {
     "data": {
      "text/plain": [
       "[None,\n",
       " None,\n",
       " None,\n",
       " None,\n",
       " None,\n",
       " None,\n",
       " None,\n",
       " None,\n",
       " None,\n",
       " None,\n",
       " None,\n",
       " None,\n",
       " None,\n",
       " None,\n",
       " None,\n",
       " None,\n",
       " None,\n",
       " None,\n",
       " None,\n",
       " None,\n",
       " None,\n",
       " None,\n",
       " None,\n",
       " None,\n",
       " None,\n",
       " None,\n",
       " None,\n",
       " None,\n",
       " None,\n",
       " None,\n",
       " None,\n",
       " None,\n",
       " None,\n",
       " None,\n",
       " None,\n",
       " None,\n",
       " None,\n",
       " None,\n",
       " None,\n",
       " None,\n",
       " None,\n",
       " None,\n",
       " None,\n",
       " None]"
      ]
     },
     "execution_count": 203,
     "metadata": {},
     "output_type": "execute_result"
    }
   ],
   "source": [
    "[print(if e.getAttribute('playerChannelId')) for e in pickedPlayers]"
   ]
  },
  {
   "cell_type": "code",
   "execution_count": 193,
   "metadata": {},
   "outputs": [],
   "source": [
    "idlist = xmldoc.getElementsByTagName('PlayerChannels')"
   ]
  },
  {
   "cell_type": "code",
   "execution_count": 194,
   "metadata": {},
   "outputs": [
    {
     "data": {
      "text/plain": [
       "1"
      ]
     },
     "execution_count": 194,
     "metadata": {},
     "output_type": "execute_result"
    }
   ],
   "source": [
    "len(idlist)"
   ]
  },
  {
   "cell_type": "code",
   "execution_count": 191,
   "metadata": {},
   "outputs": [
    {
     "name": "stdout",
     "output_type": "stream",
     "text": [
      "35\n",
      "<DOM Element: Player at 0x7fa05564cc30>\n"
     ]
    }
   ],
   "source": [
    "print(len(itemlist))\n",
    "print(itemlist[0])"
   ]
  },
  {
   "cell_type": "code",
   "execution_count": 192,
   "metadata": {},
   "outputs": [],
   "source": [
    "players=[]\n",
    "player={}\n",
    "for p in itemlist:\n",
    "    sid=p.getElementsByTagName('ShirtNumber')[0].firstChild.nodeValue\n",
    "    pid=p.getAttribute('id')\n",
    "    tid=p.getAttribute('teamId')\n",
    "    name=p.getElementsByTagName('Name')[0].firstChild.data\n",
    "    role=p.getElementsByTagName('Value')[0].firstChild.data\n",
    "    player={'sid':sid,'pid':pid,'tid':tid,'name':name,'role':role}\n",
    "    #player[sid]['tid']=tid\n",
    "    #player[sid]['name']=name\n",
    "    #player[sid]['role']=role\n",
    "    players.append(player)\n",
    "    #print(p.getAttribute('id'))\n",
    "    #print(p.getAttribute('teamId'))\n",
    "    #print(p.getElementsByTagName('Name')[0].firstChild.data)\n",
    "    #print(\"S \"+p.getElementsByTagName('ShirtNumber')[0].firstChild.nodeValue)\n",
    "    #print(p.getElementsByTagName('Value')[0].firstChild.data)\n",
    "    #print(\" \")\n",
    "    \n",
    "    "
   ]
  },
  {
   "cell_type": "code",
   "execution_count": 179,
   "metadata": {},
   "outputs": [
    {
     "name": "stdout",
     "output_type": "stream",
     "text": [
      "{'sid': '1', 'pid': 'P3568', 'tid': 'FIFATMA', 'name': 'Player 1', 'role': 'Right Back'}\n"
     ]
    }
   ],
   "source": [
    "#print(len(ll[0]))\n",
    "#kk=[(e.nodevalue) for e in ll]\n",
    "print(players[1])"
   ]
  },
  {
   "cell_type": "code",
   "execution_count": null,
   "metadata": {},
   "outputs": [],
   "source": [
    "[print(p.getAttribute(\"id\"),p.getAttribute(\"teamId\")) for p in itemlist]"
   ]
  },
  {
   "cell_type": "code",
   "execution_count": null,
   "metadata": {},
   "outputs": [],
   "source": []
  }
 ],
 "metadata": {
  "kernelspec": {
   "display_name": "Python 3",
   "language": "python",
   "name": "python3"
  },
  "language_info": {
   "codemirror_mode": {
    "name": "ipython",
    "version": 3
   },
   "file_extension": ".py",
   "mimetype": "text/x-python",
   "name": "python",
   "nbconvert_exporter": "python",
   "pygments_lexer": "ipython3",
   "version": "3.7.6"
  }
 },
 "nbformat": 4,
 "nbformat_minor": 4
}
